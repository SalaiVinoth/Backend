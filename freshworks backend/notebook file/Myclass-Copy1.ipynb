{
 "cells": [
  {
   "cell_type": "code",
   "execution_count": 1,
   "metadata": {},
   "outputs": [],
   "source": [
    "import pandas as pd\n",
    "import tempfile\n",
    "import json\n",
    "import datetime\n",
    "import sys\n",
    "import os\n",
    "\n",
    "class MyClass:\n",
    "    fileDir='/tmp'\n",
    "    def __init__(self,file=\"\"):\n",
    "        #creates own file if file is not specified\n",
    "        if not file:\n",
    "            self.file=tempfile.NamedTemporaryFile(suffix='.csv',dir=self.fileDir,delete=False).name\n",
    "            print(self.file)\n",
    "            print('No Input File Specified Creating Own, Please use '+self.file+' file for read')\n",
    "        else:\n",
    "            self.file=file\n",
    "\n",
    "    def _create(self,key,value,_tot=0):\n",
    "        print(key,value,_tot)\n",
    "        key=key.upper()[0:32]\n",
    "        try:\n",
    "            size=os.stat(self.file).st_size\n",
    "            #checks if the file size exceeds 1GB\n",
    "            if size >(1024*1024*1024):\n",
    "                print('Data File Exceeds the Limit... Please choose New ..'+ self.file)\n",
    "                return None\n",
    "            else:\n",
    "                print('Data File size is ok ..'+str(size))\n",
    "        except (pd.errors.EmptyDataError, FileNotFoundError):\n",
    "            pass\n",
    "        except PermissionError:\n",
    "            print('Permission Denied')\n",
    "            return\n",
    "            \n",
    "        try :\n",
    "            df=pd.read_csv(self.file,sep=',' ,names=['key','value','_cts','_tot'],index_col=0,header=None)\n",
    "        except (pd.errors.EmptyDataError, FileNotFoundError):\n",
    "            df=pd.DataFrame(columns=['key','value','_cts','_tot'])\n",
    "        except PermissionError:\n",
    "            print('Permission Denied')\n",
    "            return\n",
    "        if key not in list(df.index):\n",
    "            #sets timestamp along with key and value while inserting file\n",
    "            df=pd.DataFrame([(key,json.dumps(value),datetime.datetime.now().strftime(\"%s\"),_tot)],columns=['key','value','_cts','_tot'])\n",
    "            try: \n",
    "                df.to_csv(self.file, mode='a',index=None,header=None)\n",
    "                print('Created key Value Pair for .....'+key)\n",
    "            except PermissionError:\n",
    "                print('Permission Denied')\n",
    "        else:\n",
    "            print('Key Already Exists  ....'+key)\n",
    "\n",
    "\n",
    "    def _read(self,key):\n",
    "        key=key.upper()[0:32]\n",
    "        try:\n",
    "            df=pd.read_csv(self.file,sep=',' ,names=['key','value','_cts','_tot'],index_col=0,header=None)\n",
    "        except FileNotFoundError:\n",
    "            print('File Not Found')\n",
    "            return None\n",
    "        if key in list(df.index):\n",
    "            #checks whether key is available for read based on timetoliveproperty\n",
    "            if (df.loc[key]['_tot']+df.loc[key]['_cts']>=int(datetime.datetime.now().strftime(\"%s\")) or df.loc[key]['_tot']==0):\n",
    "                print('Value stored '+df.loc[key]['value'])\n",
    "                return json.loads(df.loc[key]['value'])\n",
    "            else:\n",
    "                print('Value stored is Expired',df.loc[key]['_tot']+df.loc[key]['_cts'],int(datetime.datetime.now().strftime(\"%s\")))\n",
    "        else:\n",
    "            print('Key Not Found for Reading ....'+key)\n",
    "\n",
    "    def _delete(self,key):\n",
    "        key=key.upper()[0:32]\n",
    "        try:\n",
    "            df=pd.read_csv(self.file,sep=',' ,names=['key','value','_cts','_tot'],index_col=0,header=None)\n",
    "        except FileNotFoundError:\n",
    "            print('File Not Found')\n",
    "            return None\n",
    "        if key in list(df.index):\n",
    "            #checks whether key is available for read based on timetoliveproperty\n",
    "            if (df.loc[key]['_tot']+df.loc[key]['_cts']>=int(datetime.datetime.now().strftime(\"%s\"))or df.loc[key]['_tot']==0):\n",
    "                df=df.loc[set(df.index) - set([key])]\n",
    "                df.to_csv(self.file, mode='w',header=None)\n",
    "                print('Deleted Key ...'+key)\n",
    "            else:\n",
    "                print('Value stored is Expired',df.loc[key]['_tot']+df.loc[key]['_cts'],int(datetime.datetime.now().strftime(\"%s\")))\n",
    "        else:\n",
    "            print('Key Not Found for Deletion .....'+key)\n",
    "\n",
    "\n",
    "#c=MyClass(file='/tmp/data.csv')\n",
    "#key='ddddfddd'\n",
    "#value=json.loads('{\"New\":\"Test3\"}')\n",
    "#c._create(key,value)\n",
    "#c._read(key)\n",
    "#c._delete(key)\n"
   ]
  },
  {
   "cell_type": "markdown",
   "metadata": {},
   "source": [
    "###Myclass creates a file when specified or it will create its own###"
   ]
  },
  {
   "cell_type": "code",
   "execution_count": 2,
   "metadata": {},
   "outputs": [
    {
     "name": "stdout",
     "output_type": "stream",
     "text": [
      "/tmp/tmpdv7kzuvn.csv\n",
      "No Input File Specified Creating Own, Please use /tmp/tmpdv7kzuvn.csv file for read\n"
     ]
    }
   ],
   "source": [
    "c=MyClass()"
   ]
  },
  {
   "cell_type": "code",
   "execution_count": 3,
   "metadata": {
    "scrolled": false
   },
   "outputs": [],
   "source": [
    "c=MyClass(file='/tmp/data5.csv')"
   ]
  },
  {
   "cell_type": "code",
   "execution_count": 4,
   "metadata": {},
   "outputs": [],
   "source": [
    "key='ddddfddd'\n",
    "value=json.loads('{\"New\":\"Test3\"}')"
   ]
  },
  {
   "cell_type": "code",
   "execution_count": 5,
   "metadata": {},
   "outputs": [
    {
     "name": "stdout",
     "output_type": "stream",
     "text": [
      "ddddfddd {'New': 'Test3'} 0\n",
      "Created key Value Pair for .....DDDDFDDD\n"
     ]
    }
   ],
   "source": [
    "c._create(key,value)"
   ]
  },
  {
   "cell_type": "markdown",
   "metadata": {},
   "source": [
    "###when already exisiting key is used it throws an error that key already exists###"
   ]
  },
  {
   "cell_type": "code",
   "execution_count": 6,
   "metadata": {},
   "outputs": [
    {
     "name": "stdout",
     "output_type": "stream",
     "text": [
      "ddddfddd {'New': 'Test3'} 0\n",
      "Data File size is ok ..45\n",
      "Key Already Exists  ....DDDDFDDD\n"
     ]
    }
   ],
   "source": [
    "c._create(key,value)"
   ]
  },
  {
   "cell_type": "markdown",
   "metadata": {},
   "source": [
    "Read will print the value stored at key"
   ]
  },
  {
   "cell_type": "code",
   "execution_count": 7,
   "metadata": {},
   "outputs": [
    {
     "name": "stdout",
     "output_type": "stream",
     "text": [
      "Value stored {\"New\": \"Test3\"}\n"
     ]
    },
    {
     "data": {
      "text/plain": [
       "{'New': 'Test3'}"
      ]
     },
     "execution_count": 7,
     "metadata": {},
     "output_type": "execute_result"
    }
   ],
   "source": [
    "c._read(key)"
   ]
  },
  {
   "cell_type": "code",
   "execution_count": 8,
   "metadata": {},
   "outputs": [],
   "source": [
    "key='AfjdjhfDSFsdfkjkhsdodfhsdidhfdsfadsfe'\n",
    "value=json.loads('{\"New\":\"Test4\"}')"
   ]
  },
  {
   "cell_type": "code",
   "execution_count": 9,
   "metadata": {},
   "outputs": [
    {
     "name": "stdout",
     "output_type": "stream",
     "text": [
      "AfjdjhfDSFsdfkjkhsdodfhsdidhfdsfadsfe {'New': 'Test4'} 0\n",
      "Data File size is ok ..45\n",
      "Created key Value Pair for .....AFJDJHFDSFSDFKJKHSDODFHSDIDHFDSF\n"
     ]
    }
   ],
   "source": [
    "c._create(key,value)"
   ]
  },
  {
   "cell_type": "markdown",
   "metadata": {},
   "source": [
    "###It will consider only first 32 characters for the key if key size exceeds 32chars###"
   ]
  },
  {
   "cell_type": "code",
   "execution_count": 10,
   "metadata": {},
   "outputs": [
    {
     "name": "stdout",
     "output_type": "stream",
     "text": [
      "Value stored {\"New\": \"Test4\"}\n"
     ]
    },
    {
     "data": {
      "text/plain": [
       "{'New': 'Test4'}"
      ]
     },
     "execution_count": 10,
     "metadata": {},
     "output_type": "execute_result"
    }
   ],
   "source": [
    "c._read(key)"
   ]
  },
  {
   "cell_type": "markdown",
   "metadata": {},
   "source": [
    "###Delete function deletes the key###"
   ]
  },
  {
   "cell_type": "code",
   "execution_count": 11,
   "metadata": {},
   "outputs": [
    {
     "name": "stdout",
     "output_type": "stream",
     "text": [
      "Deleted Key ...AFJDJHFDSFSDFKJKHSDODFHSDIDHFDSF\n"
     ]
    }
   ],
   "source": [
    "c._delete(key)"
   ]
  },
  {
   "cell_type": "code",
   "execution_count": 12,
   "metadata": {},
   "outputs": [
    {
     "name": "stdout",
     "output_type": "stream",
     "text": [
      "Key Not Found for Reading ....FFFF\n"
     ]
    }
   ],
   "source": [
    "c._read(\"ffff\")"
   ]
  },
  {
   "cell_type": "code",
   "execution_count": 14,
   "metadata": {},
   "outputs": [
    {
     "name": "stdout",
     "output_type": "stream",
     "text": [
      "Value stored {\"New\": \"Test3\"}\n"
     ]
    },
    {
     "data": {
      "text/plain": [
       "{'New': 'Test3'}"
      ]
     },
     "execution_count": 14,
     "metadata": {},
     "output_type": "execute_result"
    }
   ],
   "source": [
    "key='ddddfddd'\n",
    "c._read(key)"
   ]
  },
  {
   "cell_type": "code",
   "execution_count": 15,
   "metadata": {},
   "outputs": [
    {
     "name": "stdout",
     "output_type": "stream",
     "text": [
      "Afjdjhdsfadsfe {'New': 'Test4'} 0\n",
      "Data File size is ok ..45\n",
      "Created key Value Pair for .....AFJDJHDSFADSFE\n"
     ]
    }
   ],
   "source": [
    "key='Afjdjhdsfadsfe'\n",
    "value=json.loads('{\"New\":\"Test4\"}')\n",
    "c._create(key,value)"
   ]
  },
  {
   "cell_type": "code",
   "execution_count": 16,
   "metadata": {},
   "outputs": [
    {
     "name": "stdout",
     "output_type": "stream",
     "text": [
      "Afjdjhdsfdfsafadsfe {'New': 'Test4'} 0\n",
      "Data File size is ok ..96\n",
      "Created key Value Pair for .....AFJDJHDSFDFSAFADSFE\n"
     ]
    }
   ],
   "source": [
    "key='Afjdjhdsfdfsafadsfe'\n",
    "value=json.loads('{\"New\":\"Test4\"}')\n",
    "c._create(key,value)"
   ]
  },
  {
   "cell_type": "code",
   "execution_count": 17,
   "metadata": {},
   "outputs": [
    {
     "name": "stdout",
     "output_type": "stream",
     "text": [
      "Afjdjhdsfadsfe {'New': 'Test7'} 0\n",
      "Data File size is ok ..152\n",
      "Key Already Exists  ....AFJDJHDSFADSFE\n"
     ]
    }
   ],
   "source": [
    "key='Afjdjhdsfadsfe'\n",
    "value=json.loads('{\"New\":\"Test7\"}')\n",
    "c._create(key,value)"
   ]
  },
  {
   "cell_type": "code",
   "execution_count": null,
   "metadata": {},
   "outputs": [],
   "source": [
    "key='ZZZZZZZZZZZZZz'\n",
    "value=json.loads('{\"New\":\"Test4\"}')\n",
    "c._create(key,value)"
   ]
  }
 ],
 "metadata": {
  "kernelspec": {
   "display_name": "Python 3",
   "language": "python",
   "name": "python3"
  },
  "language_info": {
   "codemirror_mode": {
    "name": "ipython",
    "version": 3
   },
   "file_extension": ".py",
   "mimetype": "text/x-python",
   "name": "python",
   "nbconvert_exporter": "python",
   "pygments_lexer": "ipython3",
   "version": "3.7.3"
  }
 },
 "nbformat": 4,
 "nbformat_minor": 2
}
